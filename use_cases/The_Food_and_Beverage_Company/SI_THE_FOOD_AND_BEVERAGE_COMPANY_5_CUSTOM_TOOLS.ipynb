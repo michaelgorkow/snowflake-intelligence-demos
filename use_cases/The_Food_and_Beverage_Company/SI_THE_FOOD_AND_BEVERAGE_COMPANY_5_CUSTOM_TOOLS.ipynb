{
 "metadata": {
  "kernelspec": {
   "display_name": "Streamlit Notebook",
   "name": "streamlit"
  },
  "lastEditStatus": {
   "notebookId": "bzvjim6k7w6eaivs4on5",
   "authorId": "418056782820",
   "authorName": "ADMIN",
   "authorEmail": "michael.gorkow@snowflake.com",
   "sessionId": "a47819f2-5c8b-47b1-9d27-793559a99f19",
   "lastEditTime": 1755519699753
  }
 },
 "nbformat_minor": 5,
 "nbformat": 4,
 "cells": [
  {
   "cell_type": "markdown",
   "id": "f7084097-d978-4655-970d-72def5351d4c",
   "metadata": {
    "collapsed": false,
    "name": "IMPORTS1"
   },
   "source": [
    "# Imports"
   ]
  },
  {
   "cell_type": "code",
   "execution_count": null,
   "id": "3775908f-ca36-4846-8f38-5adca39217f2",
   "metadata": {
    "language": "python",
    "name": "IMPORTS2"
   },
   "outputs": [],
   "source": [
    "# Import python packages\n",
    "import warnings\n",
    "warnings.filterwarnings(\"ignore\")\n",
    "import streamlit as st\n",
    "\n",
    "# We can also use Snowpark for our analyses!\n",
    "from snowflake.snowpark.context import get_active_session\n",
    "from snowflake.core import Root\n",
    "from snowflake.cortex import complete\n",
    "session = get_active_session()\n",
    "root = Root(session)"
   ]
  },
  {
   "cell_type": "markdown",
   "id": "b3aa3c4f-6ff6-40de-8504-d8768e690fec",
   "metadata": {
    "collapsed": false,
    "name": "UNSTRUCTURED_DATA1"
   },
   "source": [
    "# 1. Unstructured Data (Cortex Search)\n",
    "## 1.1 Overview"
   ]
  },
  {
   "cell_type": "code",
   "execution_count": null,
   "id": "22990531-21cb-4715-8323-45062270c07c",
   "metadata": {
    "language": "sql",
    "name": "UNSTRUCTURED_DATA2"
   },
   "outputs": [],
   "source": [
    "SELECT * FROM DIRECTORY('@MARKETING_CAMPAIGNS');"
   ]
  },
  {
   "cell_type": "markdown",
   "id": "4c4f4bca-0e30-4841-9799-44234b4803f7",
   "metadata": {
    "collapsed": false,
    "name": "CORTEX_SEARCH1"
   },
   "source": [
    "## 1.2 Retrieval Service Creation (PDFs)"
   ]
  },
  {
   "cell_type": "code",
   "execution_count": null,
   "id": "d2ac35e2-11d3-403b-a2b4-bfc6531e23c9",
   "metadata": {
    "language": "sql",
    "name": "CORTEX_SEARCH2"
   },
   "outputs": [],
   "source": [
    "-- Layout extraction for PDF documents (Marketing Campaigns)\n",
    "CREATE OR REPLACE TABLE _UNSTR_MARKETING_CAMPAIGNS AS\n",
    "WITH DOCUMENTS AS (\n",
    "    SELECT \n",
    "        RELATIVE_PATH,\n",
    "        GET_PRESIGNED_URL(@MARKETING_CAMPAIGNS, RELATIVE_PATH, 604800) AS URL,\n",
    "        SNOWFLAKE.CORTEX.PARSE_DOCUMENT(\n",
    "            '@MARKETING_CAMPAIGNS',\n",
    "            RELATIVE_PATH,\n",
    "            {'mode': 'LAYOUT'}\n",
    "        ):content::TEXT AS RAW_CONTENT,\n",
    "        -- Filter for text after first header\n",
    "        SUBSTRING(RAW_CONTENT, POSITION('#', RAW_CONTENT)) AS DOCUMENT_CONTENT\n",
    "    FROM \n",
    "        DIRECTORY('@MARKETING_CAMPAIGNS')\n",
    ")\n",
    "SELECT \n",
    "    RELATIVE_PATH,\n",
    "    URL,\n",
    "    DOCUMENT_CONTENT\n",
    "FROM \n",
    "    DOCUMENTS;\n",
    "\n",
    "SELECT * FROM _UNSTR_MARKETING_CAMPAIGNS;"
   ]
  },
  {
   "cell_type": "code",
   "execution_count": null,
   "id": "4a86e5d4-0029-43c9-a027-a88161d129fb",
   "metadata": {
    "language": "sql",
    "name": "CORTEX_SEARCH3"
   },
   "outputs": [],
   "source": [
    "SELECT * FROM _UNSTR_MARKETING_CAMPAIGNS;"
   ]
  },
  {
   "cell_type": "code",
   "execution_count": null,
   "id": "7da80e33-90f3-4c51-b57e-910b48b8d921",
   "metadata": {
    "language": "sql",
    "name": "CORTEX_SEARCH4"
   },
   "outputs": [],
   "source": [
    "-- Create a Cortex Search Service (Marketing Campaigns)\n",
    "CREATE CORTEX SEARCH SERVICE IF NOT EXISTS SEARCH_MARKETING_CAMPAIGNS\n",
    "  ON DOCUMENT_CONTENT\n",
    "  ATTRIBUTES RELATIVE_PATH, URL\n",
    "  WAREHOUSE = AI_WH\n",
    "  TARGET_LAG = '12 hours'\n",
    "  EMBEDDING_MODEL = 'snowflake-arctic-embed-l-v2.0-8k'\n",
    "AS (\n",
    "  SELECT\n",
    "      RELATIVE_PATH,\n",
    "      URL,\n",
    "      DOCUMENT_CONTENT\n",
    "  FROM _UNSTR_MARKETING_CAMPAIGNS\n",
    ");"
   ]
  },
  {
   "cell_type": "code",
   "execution_count": null,
   "id": "e5ba4302-d75d-403d-840e-f116a124c60e",
   "metadata": {
    "language": "sql",
    "name": "CORTEX_SEARCH5"
   },
   "outputs": [],
   "source": [
    "-- Layout extraction for PDF documents (News Articles)\n",
    "CREATE OR REPLACE TABLE _UNSTR_NEWS_ARTICLES AS\n",
    "WITH DOCUMENTS AS (\n",
    "    SELECT \n",
    "        RELATIVE_PATH,\n",
    "        GET_PRESIGNED_URL(@NEWS_ARTICLES, RELATIVE_PATH, 604800) AS URL,\n",
    "        SNOWFLAKE.CORTEX.PARSE_DOCUMENT(\n",
    "            '@NEWS_ARTICLES',\n",
    "            RELATIVE_PATH,\n",
    "            {'mode': 'LAYOUT'}\n",
    "        ):content::TEXT AS RAW_CONTENT,\n",
    "        -- Filter for text after first header\n",
    "        SUBSTRING(RAW_CONTENT, POSITION('#', RAW_CONTENT)) AS DOCUMENT_CONTENT\n",
    "    FROM \n",
    "        DIRECTORY('@NEWS_ARTICLES')\n",
    ")\n",
    "SELECT \n",
    "    RELATIVE_PATH,\n",
    "    URL,\n",
    "    DOCUMENT_CONTENT\n",
    "FROM \n",
    "    DOCUMENTS;\n",
    "\n",
    "SELECT * FROM _UNSTR_NEWS_ARTICLES;"
   ]
  },
  {
   "cell_type": "code",
   "execution_count": null,
   "id": "619e9a97-8eca-46aa-b8d7-4f8d0505a3fd",
   "metadata": {
    "language": "sql",
    "name": "CORTEX_SEARCH6"
   },
   "outputs": [],
   "source": [
    "-- Create a Cortex Search Service (News Articles)\n",
    "CREATE CORTEX SEARCH SERVICE IF NOT EXISTS SEARCH_NEWS_ARTICLES\n",
    "  ON DOCUMENT_CONTENT\n",
    "  ATTRIBUTES RELATIVE_PATH, URL\n",
    "  WAREHOUSE = AI_WH\n",
    "  TARGET_LAG = '12 hours'\n",
    "  EMBEDDING_MODEL = 'snowflake-arctic-embed-l-v2.0-8k'\n",
    "AS (\n",
    "  SELECT\n",
    "      RELATIVE_PATH,\n",
    "      URL,\n",
    "      DOCUMENT_CONTENT\n",
    "  FROM _UNSTR_NEWS_ARTICLES\n",
    ");"
   ]
  },
  {
   "cell_type": "markdown",
   "id": "80efd5f7-1a8b-4abc-b0ab-4ca28eae474d",
   "metadata": {
    "collapsed": false,
    "name": "RAG1"
   },
   "source": [
    "## 1.3 Test Retrieval Service in RAG pipeline"
   ]
  },
  {
   "cell_type": "code",
   "execution_count": null,
   "id": "57438cc7-4cf4-4b3e-9c6c-e2d1b7927aa9",
   "metadata": {
    "language": "python",
    "name": "RAG2"
   },
   "outputs": [],
   "source": [
    "# Question\n",
    "question = 'What products were featured in the stay hydrated lover campaign?'\n",
    "model = 'mistral-large2'\n",
    "\n",
    "# Connect to Search Service\n",
    "search_service = (root\n",
    "  .databases[\"AI_DEVELOPMENT\"]\n",
    "  .schemas[\"SI_THE_FOOD_AND_BEVERAGE_COMPANY\"]\n",
    "  .cortex_search_services[\"SEARCH_MARKETING_CAMPAIGNS\"]\n",
    ")\n",
    "\n",
    "# Search relevant documents\n",
    "search_results = search_service.search(\n",
    "  query=question,\n",
    "  columns=[\"RELATIVE_PATH\",\"DOCUMENT_CONTENT\"],\n",
    "  limit=1\n",
    ")\n",
    "\n",
    "retrieved_document = search_results.results[0]['DOCUMENT_CONTENT']\n",
    "\n",
    "# Generate response with provided context\n",
    "_ = st.write_stream(complete(model, f\"{question} Answer based on this context: {retrieved_document}\", stream=True))\n",
    "\n",
    "with st.expander('Source:'):\n",
    "    st.markdown(retrieved_document)"
   ]
  },
  {
   "cell_type": "markdown",
   "id": "bb0f4b18-16d8-48fb-b7ec-db4201b815de",
   "metadata": {
    "collapsed": false,
    "name": "AUDIO_DATA1"
   },
   "source": "## 1.4 AISQL\n\nNot all data is useful for RAG but rather if you turn it into structured data.  \nWith Snowflake's AISQL functions, you can easily create BI-ready data from unstructured data.\n\nIn this example we are transcribing customer reviews from `audio files` and combine it with other reviews already in the `__CUSTOMER_REVIEWS` table.  "
  },
  {
   "cell_type": "code",
   "execution_count": null,
   "id": "4ac8d3d9-9326-4bc4-96a6-5c1eae422738",
   "metadata": {
    "language": "sql",
    "name": "AUDIO_DATA2"
   },
   "outputs": [],
   "source": "-- Already collected customer reviews\nSELECT * FROM __CUSTOMER_REVIEWS LIMIT 5;"
  },
  {
   "cell_type": "markdown",
   "id": "e7be5299-3840-481a-856c-35dd3ac645ba",
   "metadata": {
    "collapsed": false,
    "name": "AUDIO_DATA3"
   },
   "source": [
    "## 1.4.1 Transcribe Audio Files"
   ]
  },
  {
   "cell_type": "code",
   "execution_count": null,
   "id": "c63fcbc2-3d15-4039-b928-798c343c37fc",
   "metadata": {
    "language": "sql",
    "name": "AUDIO_DATA4"
   },
   "outputs": [],
   "source": [
    "CREATE OR REPLACE TABLE CUSTOMER_REVIEW_RAW_TRANSCRIPTS AS\n",
    "WITH TRANSCRIBED_CUSTOMER_REVIES AS (\n",
    "    -- Transcribe audo files\n",
    "    SELECT \n",
    "        RELATIVE_PATH,\n",
    "        SPLIT_PART(RELATIVE_PATH,'_',0)::DATE AS REVIEW_DATE,\n",
    "        TO_NUMBER(TO_CHAR(REVIEW_DATE, 'YYYYMMDD')) AS DATE_KEY,\n",
    "        TO_FILE('@CUSTOMER_VOICE_REVIEWS', RELATIVE_PATH) AS AUDIO_FILE,\n",
    "        AI_TRANSCRIBE(AUDIO_FILE) AS TRANSCRIPTION\n",
    "    FROM\n",
    "        DIRECTORY('@CUSTOMER_VOICE_REVIEWS')\n",
    ")\n",
    "SELECT\n",
    "    DATE_KEY,\n",
    "    RELATIVE_PATH,\n",
    "    TRANSCRIPTION['text']::TEXT AS REVIEW_TEXT,\n",
    "    TRANSCRIPTION['audio_duration']::FLOAT AS TRANSCRIPTION_DURATION,\n",
    "FROM TRANSCRIBED_CUSTOMER_REVIES;\n",
    "\n",
    "SELECT * FROM CUSTOMER_REVIEW_RAW_TRANSCRIPTS LIMIT 10;"
   ]
  },
  {
   "cell_type": "markdown",
   "id": "e244fccb-a44e-40da-b4ff-d97da1ea1f87",
   "metadata": {
    "collapsed": false,
    "name": "AI_SQL1"
   },
   "source": [
    "## 1.5 Turning Unstructured Data into Structured Data"
   ]
  },
  {
   "cell_type": "code",
   "execution_count": null,
   "id": "db22303a-473d-43b5-a7a2-8729051b830f",
   "metadata": {
    "language": "sql",
    "name": "AI_SQL2"
   },
   "outputs": [],
   "source": [
    "CREATE TABLE _SENTIMENTS_CUSTOMER_REVIEWS AS (\n",
    "    -- Combine transcripts with existing reviews\n",
    "    WITH COMBINED_DATA AS (\n",
    "        SELECT DATE_KEY, REVIEW_TEXT FROM __CUSTOMER_REVIEWS\n",
    "        UNION ALL BY NAME\n",
    "        SELECT DATE_KEY, REVIEW_TEXT FROM CUSTOMER_REVIEW_RAW_TRANSCRIPTS\n",
    "    ),\n",
    "    -- Simple sentiment analysis for 4 different categories\n",
    "    BASIC_ANALYSIS AS (\n",
    "        SELECT\n",
    "            DATE_KEY,\n",
    "            REVIEW_TEXT,\n",
    "            LENGTH(REVIEW_TEXT) AS REVIEW_LENGTH,\n",
    "            AI_SENTIMENT(\n",
    "              REVIEW_TEXT,\n",
    "              ['brand', 'product', 'price', 'quality']\n",
    "            )['categories'] AS SENTIMENT_CATEGORIES\n",
    "        FROM COMBINED_DATA LIMIT 5\n",
    "    ),\n",
    "    -- flatten the returned JSON from AI_SENTIMENT into 1 row per category\n",
    "    -- also decode the returned values for easier aggregation\n",
    "    -- finally pivot the rows into multiple columns\n",
    "    FLATTENED_DATA AS (\n",
    "        SELECT\n",
    "            DATE_KEY,\n",
    "            REVIEW_LENGTH,\n",
    "            REVIEW_TEXT,\n",
    "            flattened_data.VALUE['name']::TEXT AS SENTIMENT_CATEGORY,\n",
    "            DECODE(\n",
    "              flattened_data.VALUE['sentiment']::TEXT,\n",
    "              'unknown', NULL,\n",
    "              'positive', 1,\n",
    "              'neutral', 0,\n",
    "              'mixed', 0,\n",
    "              'negative', -1\n",
    "            ) AS SENTIMENT_VALUE,\n",
    "        FROM BASIC_ANALYSIS,\n",
    "          LATERAL FLATTEN(SENTIMENT_CATEGORIES) flattened_data\n",
    "    )\n",
    "    SELECT\n",
    "        DATE_KEY,\n",
    "        REVIEW_LENGTH,\n",
    "        REVIEW_TEXT,\n",
    "        pivoted_data.\"'overall'\" AS SENTIMENT_OVERALL,\n",
    "        pivoted_data.\"'brand'\" AS SENTIMENT_BRAND,\n",
    "        pivoted_data.\"'price'\" AS SENTIMENT_PRICE,\n",
    "        pivoted_data.\"'product'\" AS SENTIMENT_PRODUCT,\n",
    "        pivoted_data.\"'quality'\" AS SENTIMENT_QUALITY\n",
    "    FROM\n",
    "        FLATTENED_DATA\n",
    "    PIVOT (\n",
    "        MAX(SENTIMENT_VALUE) \n",
    "        FOR SENTIMENT_CATEGORY IN (ANY ORDER BY SENTIMENT_CATEGORY)\n",
    "    ) AS pivoted_data\n",
    ");\n",
    "\n",
    "SELECT * FROM _SENTIMENTS_CUSTOMER_REVIEWS;"
   ]
  },
  {
   "cell_type": "markdown",
   "id": "f871ab60-029f-426f-a724-673dc8306348",
   "metadata": {
    "collapsed": false,
    "name": "AI_SQL3"
   },
   "source": [
    "### Matching Reviews to Product Hierarchy via LLMs"
   ]
  },
  {
   "cell_type": "code",
   "execution_count": null,
   "id": "138792bd-c83b-4b64-847f-10193282559a",
   "metadata": {
    "language": "sql",
    "name": "AI_SQL4"
   },
   "outputs": [],
   "source": [
    "CREATE TABLE _SENTIMENTS_PRODUCTS_CUSTOMER_REVIEWS AS \n",
    "-- Join the first hierarchy level to each review\n",
    "WITH REVIEWS_X_PRODUCT_SUBCATEGORIES AS (\n",
    "    SELECT\n",
    "        *\n",
    "    FROM \n",
    "        _SENTIMENTS_CUSTOMER_REVIEWS\n",
    "    CROSS JOIN\n",
    "    (\n",
    "      SELECT \n",
    "        ARRAYAGG(DISTINCT CATEGORY_HIER_1_NAME) CATEGORIES\n",
    "      FROM \n",
    "        DIM_PRODUCT_HIERARCHY\n",
    "    )\n",
    "),\n",
    "-- use AI_CLASSIFY to extract hierarchy level 1\n",
    "PRODUCT_CATEGORIES AS (\n",
    "    SELECT \n",
    "        * EXCLUDE CATEGORIES,\n",
    "        AI_CLASSIFY(\n",
    "            REVIEW_TEXT, \n",
    "            CATEGORIES,\n",
    "            {'output_mode': 'single'}\n",
    "        )['labels'][0]::TEXT AS REVIEW_PRODUCT_CATEGORY,\n",
    "    FROM \n",
    "        REVIEWS_X_PRODUCT_SUBCATEGORIES\n",
    "        CROSS JOIN\n",
    "        (\n",
    "          SELECT\n",
    "            CATEGORY_HIER_1_NAME,\n",
    "            ARRAYAGG(DISTINCT CATEGORY_HIER_2_NAME) SUBCATEGORIES\n",
    "          FROM \n",
    "            DIM_PRODUCT_HIERARCHY\n",
    "          GROUP BY\n",
    "            CATEGORY_HIER_1_NAME\n",
    "        )\n",
    "        WHERE REVIEW_PRODUCT_CATEGORY = CATEGORY_HIER_1_NAME\n",
    "),\n",
    "-- Join the second hierarchy level to each review and extract the hierarchy level 2 using AI_CLASSIFY\n",
    "PRODUCT_SUBCATEGORIES AS (\n",
    "    SELECT \n",
    "        * EXCLUDE CATEGORY_HIER_1_NAME,\n",
    "        AI_CLASSIFY(\n",
    "            REVIEW_TEXT, \n",
    "            SUBCATEGORIES,\n",
    "            {\n",
    "              'output_mode': 'single',\n",
    "              'examples':[\n",
    "                {\n",
    "                  'input': 'I love the Champagne Chocolate Truffles.',\n",
    "                  'labels': ['Premium Chocolate'],\n",
    "                  'explanation': 'The review mentions a chocolate that contains champagne as a premium ingredient'\n",
    "                },\n",
    "                {\n",
    "                  'input': 'The Milk Chocolate Classic exceeded all my expectations',\n",
    "                  'labels': ['Chocolate bars'],\n",
    "                  'explanation': 'The review does not mention any premium ingredient for the chocolate.'\n",
    "                }\n",
    "              ]\n",
    "            }\n",
    "        )['labels'][0]::TEXT AS REVIEW_PRODUCT_SUBCATEGORY  \n",
    "    FROM \n",
    "        PRODUCT_CATEGORIES\n",
    ")\n",
    "SELECT \n",
    "    * EXCLUDE SUBCATEGORIES \n",
    "FROM PRODUCT_SUBCATEGORIES;\n",
    "\n",
    "SELECT * FROM _SENTIMENTS_PRODUCTS_CUSTOMER_REVIEWS;"
   ]
  },
  {
   "cell_type": "markdown",
   "id": "75ff45a3-0315-4954-a968-fc48fbf7d7f6",
   "metadata": {
    "collapsed": false,
    "name": "BI_ANALYSIS1"
   },
   "source": [
    "## 1.5.1 BI Analysis"
   ]
  },
  {
   "cell_type": "code",
   "id": "0dbf685b-2b02-4486-b1cf-320b462fd868",
   "metadata": {
    "language": "sql",
    "name": "cell7"
   },
   "outputs": [],
   "source": "CREATE TABLE FACT_CUSTOMER_REVIEWS AS \nSELECT \n    TO_NUMBER(TO_CHAR(DATE_TRUNC('MM',TO_DATE(DATE_KEY::STRING, 'YYYYMMDD')), 'YYYYMMDD')) AS DATE_KEY_START,\n    TO_NUMBER(TO_CHAR(LAST_DAY(DATE_TRUNC('MM',TO_DATE(DATE_KEY::STRING, 'YYYYMMDD'))), 'YYYYMMDD')) AS DATE_KEY_END,\n    REVIEW_PRODUCT_CATEGORY,\n    REVIEW_PRODUCT_SUBCATEGORY,\n    AVG(REVIEW_LENGTH) AS AVERAGE_REVIEW_LENGTH,\n    AVG(SENTIMENT_OVERALL) AS AVERAGE_SENTIMENT_OVERALL,\n    AVG(SENTIMENT_BRAND) AS AVERAGE_SENTIMENT_BRAND,\n    AVG(SENTIMENT_PRICE) AS AVERAGE_SENTIMENT_PRICE,\n    AVG(SENTIMENT_QUALITY) AS AVERAGE_SENTIMENT_QUALITY\nFROM \n    _SENTIMENTS_PRODUCTS_CUSTOMER_REVIEWS\nWHERE\n    REVIEW_PRODUCT_CATEGORY is not null AND\n    REVIEW_PRODUCT_SUBCATEGORY is not null\nGROUP BY\n    REVIEW_PRODUCT_CATEGORY,\n    REVIEW_PRODUCT_SUBCATEGORY,\n    DATE_KEY_START,\n    DATE_KEY_END\nORDER BY\n    REVIEW_PRODUCT_CATEGORY,\n    REVIEW_PRODUCT_SUBCATEGORY,\n    DATE_KEY_START,\n    DATE_KEY_END;\n\nSELECT * FROM FACT_CUSTOMER_REVIEWS;",
   "execution_count": null
  }
 ]
}