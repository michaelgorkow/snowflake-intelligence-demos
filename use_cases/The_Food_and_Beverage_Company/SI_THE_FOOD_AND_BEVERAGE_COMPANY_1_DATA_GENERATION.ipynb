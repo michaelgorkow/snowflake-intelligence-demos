{
 "metadata": {
  "kernelspec": {
   "display_name": "Streamlit Notebook",
   "name": "streamlit"
  },
  "lastEditStatus": {
   "notebookId": "uda7rlda3z6vuefq3jn5",
   "authorId": "5423371114908",
   "authorName": "ADMIN",
   "authorEmail": "michael.gorkow@snowflake.com",
   "sessionId": "c5442e53-cc2d-4b3f-a531-60f92b8f0106",
   "lastEditTime": 1756138492675
  }
 },
 "nbformat_minor": 5,
 "nbformat": 4,
 "cells": [
  {
   "cell_type": "code",
   "execution_count": null,
   "id": "c2ce5d2e-5494-4bd6-830b-29a85792de57",
   "metadata": {
    "language": "python",
    "name": "PACKAGE_INSTALLS"
   },
   "outputs": [],
   "source": [
    "!pip install --quiet --root-user-action=ignore faker swifter coqui-tts pydub"
   ]
  },
  {
   "cell_type": "markdown",
   "id": "f7084097-d978-4655-970d-72def5351d4c",
   "metadata": {
    "collapsed": false,
    "name": "IMPORTS1"
   },
   "source": [
    "# Imports"
   ]
  },
  {
   "cell_type": "code",
   "execution_count": null,
   "id": "3775908f-ca36-4846-8f38-5adca39217f2",
   "metadata": {
    "language": "python",
    "name": "IMPORTS2"
   },
   "outputs": [],
   "source": [
    "# Import python packages\n",
    "import warnings\n",
    "import json\n",
    "warnings.filterwarnings(\"ignore\")\n",
    "from snowflake.snowpark.context import get_active_session\n",
    "from data_generation.data_generator import DataGenerator\n",
    "from data_generation.text_to_speech import TextToSpeech\n",
    "\n",
    "session = get_active_session()"
   ]
  },
  {
   "cell_type": "markdown",
   "id": "ba1fec4b-2f02-4b8e-bdcd-a5288bbfbddb",
   "metadata": {
    "collapsed": false,
    "name": "DATA_GENERATION1"
   },
   "source": [
    "# Data Generation\n",
    "\n",
    "The classes `DataGenerator` and `TextToSpeech` generates all data required for this demo."
   ]
  },
  {
   "cell_type": "code",
   "execution_count": null,
   "id": "56e6038f-6eaf-4c84-ab92-e762e21774e8",
   "metadata": {
    "language": "python",
    "name": "DATA_GENERATION2"
   },
   "outputs": [],
   "source": [
    "# Structured Data\n",
    "data_generator = DataGenerator(session)\n",
    "data_generator.load_configuration()\n",
    "data_generator.generate_data(start_date='2024-01-01', end_date='2025-07-31')"
   ]
  },
  {
   "cell_type": "code",
   "execution_count": null,
   "id": "811ea1a7-8595-4b68-8327-0ff0b063da2b",
   "metadata": {
    "language": "python",
    "name": "cell5"
   },
   "outputs": [],
   "source": [
    "# Unstructured Data \n",
    "tts_generator = TextToSpeech(\n",
    "    model='tts_models/multilingual/multi-dataset/xtts_v2', \n",
    "    voices='data_generation/04_audio/configuration/voices.json'\n",
    ")\n",
    "\n",
    "# load conversations from json\n",
    "recordings = json.load(open('data_generation/04_audio/configuration/call_center_recordings.json'))\n",
    "output_folder = '/call_center_recordings'\n",
    "\n",
    "# Create audio files from conversations\n",
    "tts_generator.dict_to_speech_optimized(recordings, output_folder)\n",
    "\n",
    "# Upload audio files to Snowflake stage\n",
    "session.file.put(local_file_name=f'{output_folder}/*', stage_location='@AUDIO/call_center_recordings', auto_compress=False)\n",
    "session.sql('ALTER STAGE AUDIO REFRESH').collect()"
   ]
  },
  {
   "cell_type": "markdown",
   "id": "e3fc12ec-8915-4829-b2c6-5fcf3fcc62e5",
   "metadata": {
    "collapsed": false,
    "name": "STRCUTURED_DATA1"
   },
   "source": [
    "##  Structured Data\n",
    "The data model of this demo consists of multiple tables and views listed here."
   ]
  },
  {
   "cell_type": "code",
   "execution_count": null,
   "id": "a301fdaf-dfd6-4f84-ae38-59a923611e9a",
   "metadata": {
    "codeCollapsed": false,
    "collapsed": false,
    "language": "python",
    "name": "STRCUTURED_DATA2"
   },
   "outputs": [],
   "source": [
    "data_generator.dim_dates.show(n=5)\n",
    "data_generator.dim_suppliers.show()\n",
    "data_generator.dim_product_hierarchy.show(n=5)\n",
    "data_generator.dim_products.show(n=5)\n",
    "data_generator.dim_platforms.show(n=5)\n",
    "data_generator.dim_customers.show(n=5)\n",
    "data_generator.dim_dates.show(n=5)\n",
    "data_generator.fact_transactions.show(n=5)\n",
    "data_generator.fact_supplier_deliveries.show(n=5)\n",
    "data_generator.fact_daily_stock_levels.show(n=5)\n",
    "data_generator.customer_reviews.show(n=5)"
   ]
  },
  {
   "cell_type": "markdown",
   "id": "8a75ec56-518a-4de6-8476-0776b7572e4f",
   "metadata": {
    "collapsed": false,
    "name": "UNSTRUCTURED_DATA1"
   },
   "source": [
    "## Unstructured Data\n",
    "\n",
    "This demo provides multiple unstructured datasources listed here."
   ]
  },
  {
   "cell_type": "code",
   "execution_count": null,
   "id": "e9961da6-5921-4cca-82b1-e8fa5421daf9",
   "metadata": {
    "language": "sql",
    "name": "UNSTRUCTURED_DATA2"
   },
   "outputs": [],
   "source": [
    "SELECT * FROM DIRECTORY(@DOCUMENTS) limit 10;"
   ]
  },
  {
   "cell_type": "code",
   "execution_count": null,
   "id": "ed7d51ac-7fb3-402d-b43f-d4ce4f296751",
   "metadata": {
    "language": "sql",
    "name": "UNSTRUCTURED_DATA3"
   },
   "outputs": [],
   "source": [
    "SELECT * FROM DIRECTORY(@AUDIO) limit 10;"
   ]
  }
 ]
}