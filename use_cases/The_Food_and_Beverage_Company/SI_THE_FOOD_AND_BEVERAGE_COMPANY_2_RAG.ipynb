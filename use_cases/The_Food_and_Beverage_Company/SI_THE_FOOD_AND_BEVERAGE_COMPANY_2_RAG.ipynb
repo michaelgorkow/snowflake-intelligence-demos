{
 "metadata": {
  "kernelspec": {
   "display_name": "Streamlit Notebook",
   "name": "streamlit"
  },
  "lastEditStatus": {
   "notebookId": "c6wanpqsf42um4brfmjq",
   "authorId": "418056782820",
   "authorName": "ADMIN",
   "authorEmail": "michael.gorkow@snowflake.com",
   "sessionId": "7540d5fb-3798-4717-811b-fed2faaab990",
   "lastEditTime": 1755856308760
  }
 },
 "nbformat_minor": 5,
 "nbformat": 4,
 "cells": [
  {
   "cell_type": "markdown",
   "id": "f7084097-d978-4655-970d-72def5351d4c",
   "metadata": {
    "collapsed": false,
    "name": "IMPORTS1"
   },
   "source": [
    "# Imports"
   ]
  },
  {
   "cell_type": "code",
   "execution_count": null,
   "id": "3775908f-ca36-4846-8f38-5adca39217f2",
   "metadata": {
    "language": "python",
    "name": "IMPORTS2"
   },
   "outputs": [],
   "source": [
    "# Import python packages\n",
    "import warnings\n",
    "warnings.filterwarnings(\"ignore\")\n",
    "import streamlit as st\n",
    "\n",
    "# We can also use Snowpark for our analyses!\n",
    "from snowflake.snowpark.context import get_active_session\n",
    "from snowflake.core import Root\n",
    "from snowflake.cortex import complete\n",
    "session = get_active_session()\n",
    "root = Root(session)"
   ]
  },
  {
   "cell_type": "markdown",
   "id": "b3aa3c4f-6ff6-40de-8504-d8768e690fec",
   "metadata": {
    "collapsed": false,
    "name": "UNSTRUCTURED_DATA1"
   },
   "source": "# 1. Unstructured Data\n\n## 1.1 Overview\nIn this notebook we are preparing unstructured documents for usage in Cortex Agents.\nThe documents are __PDF and Word documents__ as well as __Powerpoint Presentations__ for marketing campaigns and news articles.\n\nUsers will be able to ask questions like this to the Agent:\n> ___\"What products were featured in the stay hydrated campaign?\"___ \n\nThis involves a classic RAG approach (based on [Cortex Search](https://docs.snowflake.com/en/user-guide/snowflake-cortex/cortex-search/cortex-search-overview)) where the Agent needs to identify relevant documents from the marketing campaigns that contain information about the featured products and then uses this document as context for an LLM to generate an answer."
  },
  {
   "cell_type": "markdown",
   "id": "4c4f4bca-0e30-4841-9799-44234b4803f7",
   "metadata": {
    "collapsed": false,
    "name": "RAG_OVERVIEW1"
   },
   "source": "## 2. Retrieval Services using Cortex Search (RAG)\n\nSnowflake's [TO_FILE](https://docs.snowflake.com/en/sql-reference/functions/to_file) function returns a FILE object from a file url.  \n[FL_GET_CONTENT_TYPE](https://docs.snowflake.com/en/sql-reference/functions/fl_get_content_type) and [FL_GET_FILE_TYPE](https://docs.snowflake.com/en/sql-reference/functions/fl_get_file_type) provide the type and modality of the file which is useful to filter for specific files in case you have multiple file types in a stage."
  },
  {
   "cell_type": "code",
   "id": "b2a5edea-e82a-4067-8dcd-b958cbc2cf7c",
   "metadata": {
    "language": "sql",
    "name": "RAG_OVERVIEW2"
   },
   "outputs": [],
   "source": "-- Query files in Snowflake stage\nSELECT \n  RELATIVE_PATH, \n  FL_GET_CONTENT_TYPE(TO_FILE(file_url)) as MIME_TYPE,\n  FL_GET_FILE_TYPE(TO_FILE(file_url)) as FILE_MODALITY\nFROM DIRECTORY(@DOCUMENTS) LIMIT 5;",
   "execution_count": null
  },
  {
   "cell_type": "markdown",
   "id": "544c454c-9739-4ade-8ff1-91a47bb7004e",
   "metadata": {
    "name": "RAG_PARSE_DOCUMENT1",
    "collapsed": false
   },
   "source": "## 2.1 Extract Contents from Documents\n\nSnowflake's [PARSE_DOCUMENT]() function runs OCR and (optionally) layout detection on documents.\n\nSupported Document Types:\n* PDF\n* DOCX\n* PPTX"
  },
  {
   "cell_type": "code",
   "execution_count": null,
   "id": "e5ba4302-d75d-403d-840e-f116a124c60e",
   "metadata": {
    "language": "sql",
    "name": "RAG_PARSE_DOCUMENT2"
   },
   "outputs": [],
   "source": "-- Layout extraction for PDF documents\nCREATE OR REPLACE TABLE _DOCUMENT_CONTENTS AS\nWITH DOCUMENTS AS (\n    SELECT \n        RELATIVE_PATH,\n        GET_PRESIGNED_URL(@DOCUMENTS, RELATIVE_PATH, 604800) AS URL,\n        -- Extract document\n        SNOWFLAKE.CORTEX.PARSE_DOCUMENT(\n            '@DOCUMENTS',\n            RELATIVE_PATH,\n            {'mode': 'LAYOUT'}\n        ) AS PARSE_DOCUMENT_OUTPUT,\n        -- Parse outputs from PARSE_DOCUMENT\n        PARSE_DOCUMENT_OUTPUT['content']::TEXT AS RAW_CONTENT,\n        PARSE_DOCUMENT_OUTPUT['metadata']['pageCount']::INT AS PAGE_COUNT,\n        -- Filter for text after first header\n        SUBSTRING(RAW_CONTENT, POSITION('#', RAW_CONTENT)) AS DOCUMENT_CONTENT\n    FROM \n        DIRECTORY('@DOCUMENTS')\n    WHERE \n        FL_GET_FILE_TYPE(TO_FILE(file_url)) = 'document'\n)\nSELECT \n    RELATIVE_PATH,\n    URL,\n    PAGE_COUNT,\n    DOCUMENT_CONTENT\nFROM \n    DOCUMENTS;\n\nSELECT * FROM _DOCUMENT_CONTENTS;"
  },
  {
   "cell_type": "markdown",
   "id": "351ad723-5e59-405b-a3b0-636b7d56ea00",
   "metadata": {
    "name": "RAG_SEARCH_SERVICE1",
    "collapsed": false
   },
   "source": "## 2.2 Create Retrieval Services (Cortex Search)\n\n[Cortex Search](https://docs.snowflake.com/en/user-guide/snowflake-cortex/cortex-search/cortex-search-overview) enables low-latency, high-quality “fuzzy” search over your Snowflake data. It powers a broad array of search experiences for Snowflake users including Retrieval Augmented Generation (RAG) applications leveraging Large Language Models (LLMs)."
  },
  {
   "cell_type": "code",
   "id": "8317e3fd-5491-4802-a347-0a028e672739",
   "metadata": {
    "language": "sql",
    "name": "RAG_SEARCH_SERVICE2"
   },
   "outputs": [],
   "source": "-- Create a Cortex Search Service (Marketing Campaigns)\nCREATE CORTEX SEARCH SERVICE IF NOT EXISTS SEARCH_MARKETING_CAMPAIGNS\n  ON DOCUMENT_CONTENT\n  ATTRIBUTES RELATIVE_PATH, URL\n  WAREHOUSE = AI_WH\n  TARGET_LAG = '12 hours'\n  EMBEDDING_MODEL = 'snowflake-arctic-embed-l-v2.0-8k'\nAS (\n  SELECT\n    RELATIVE_PATH,\n    URL,\n    DOCUMENT_CONTENT\n  FROM \n    _DOCUMENT_CONTENTS\n  WHERE\n    startswith(RELATIVE_PATH, 'marketing_campaigns')\n);",
   "execution_count": null
  },
  {
   "cell_type": "code",
   "execution_count": null,
   "id": "619e9a97-8eca-46aa-b8d7-4f8d0505a3fd",
   "metadata": {
    "language": "sql",
    "name": "RAG_SEARCH_SERVICE3"
   },
   "outputs": [],
   "source": "-- Create a Cortex Search Service (News Articles)\nCREATE CORTEX SEARCH SERVICE IF NOT EXISTS SEARCH_NEWS_ARTICLES\n  ON DOCUMENT_CONTENT\n  ATTRIBUTES RELATIVE_PATH, URL\n  WAREHOUSE = AI_WH\n  TARGET_LAG = '12 hours'\n  EMBEDDING_MODEL = 'snowflake-arctic-embed-l-v2.0-8k'\nAS (\n  SELECT\n    RELATIVE_PATH,\n    URL,\n    DOCUMENT_CONTENT\n  FROM \n    _DOCUMENT_CONTENTS\n  WHERE\n    startswith(RELATIVE_PATH, 'news_articles')\n);"
  },
  {
   "cell_type": "markdown",
   "id": "80efd5f7-1a8b-4abc-b0ab-4ca28eae474d",
   "metadata": {
    "collapsed": false,
    "name": "RAG_TEST1"
   },
   "source": "## 3. Test Retrieval Service in (minimalistic) RAG pipeline\n\nWe can quickly test the created Search Services by using the [Python-API](https://docs.snowflake.com/en/user-guide/snowflake-cortex/cortex-search/query-cortex-search-service#python-api). The API will return the most relevant documents based on the user's question. The retrieved context is then used in [AI_COMPLETE](https://docs.snowflake.com/en/sql-reference/functions/ai_complete-single-string) to generate an answer."
  },
  {
   "cell_type": "code",
   "execution_count": null,
   "id": "57438cc7-4cf4-4b3e-9c6c-e2d1b7927aa9",
   "metadata": {
    "language": "python",
    "name": "RAG_TEST2"
   },
   "outputs": [],
   "source": "# Question\nquestion = 'What products were featured in the stay hydrated campaign?'\nmodel = 'mistral-large2'\n\n# Connect to Search Service\nsearch_service = (root\n  .databases[\"AI_DEVELOPMENT\"]\n  .schemas[\"SI_THE_FOOD_AND_BEVERAGE_COMPANY\"]\n  .cortex_search_services[\"SEARCH_MARKETING_CAMPAIGNS\"]\n)\n\n# Search relevant documents\nsearch_results = search_service.search(\n  query=question,\n  columns=[\"RELATIVE_PATH\",\"DOCUMENT_CONTENT\"],\n  limit=1\n)\n\nretrieved_document = search_results.results[0]['DOCUMENT_CONTENT']\n\n# Generate response with provided context\n_ = st.write_stream(complete(model, f\"{question} Answer based on this context: {retrieved_document}\", stream=True))\n\nwith st.expander('Source:'):\n    st.markdown(retrieved_document)"
  }
 ]
}