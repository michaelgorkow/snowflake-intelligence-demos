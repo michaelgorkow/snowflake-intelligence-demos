{
 "metadata": {
  "kernelspec": {
   "display_name": "Streamlit Notebook",
   "name": "streamlit"
  },
  "lastEditStatus": {
   "notebookId": "groqpj6tz46prlrq6n5e",
   "authorId": "418056782820",
   "authorName": "ADMIN",
   "authorEmail": "michael.gorkow@snowflake.com",
   "sessionId": "ea739b2d-98ee-4627-9618-877edd1988c9",
   "lastEditTime": 1756045038413
  }
 },
 "nbformat_minor": 5,
 "nbformat": 4,
 "cells": [
  {
   "cell_type": "markdown",
   "id": "f7084097-d978-4655-970d-72def5351d4c",
   "metadata": {
    "collapsed": false,
    "name": "IMPORTS1"
   },
   "source": [
    "# Imports"
   ]
  },
  {
   "cell_type": "code",
   "execution_count": null,
   "id": "3775908f-ca36-4846-8f38-5adca39217f2",
   "metadata": {
    "language": "python",
    "name": "IMPORTS2"
   },
   "outputs": [],
   "source": [
    "# Import python packages\n",
    "import warnings\n",
    "warnings.filterwarnings(\"ignore\")\n",
    "import streamlit as st\n",
    "\n",
    "# We can also use Snowpark for our analyses!\n",
    "from snowflake.snowpark.context import get_active_session\n",
    "from snowflake.core import Root\n",
    "from snowflake.cortex import complete\n",
    "session = get_active_session()\n",
    "root = Root(session)"
   ]
  },
  {
   "cell_type": "markdown",
   "id": "b3aa3c4f-6ff6-40de-8504-d8768e690fec",
   "metadata": {
    "collapsed": false,
    "name": "UNSTRUCTURED_DATA1"
   },
   "source": "# 1. Unstructured Data\n\n## 1.1 Overview\nIn this notebook we are preparing __audio recordings__ from customer reviews and call center inquiries for usage in Cortex Agents.\n\nUsers will be able to ask questions like this to the Agent:\n> ___\"How did sentiment of customer reviews change for coffee products in 2024 per month?\"___ \n\nThis requires turning the audio recordings into a structured dataset which we can then query with standard SQL (using [Cortex Analyst](https://docs.snowflake.com/en/user-guide/snowflake-cortex/cortex-analyst))."
  },
  {
   "cell_type": "markdown",
   "id": "bb0f4b18-16d8-48fb-b7ec-db4201b815de",
   "metadata": {
    "collapsed": false,
    "name": "AUDIO_DATA1"
   },
   "source": "## 2. Turning Unstructured Data into Structured Data\n  \nWith Snowflake's AISQL functions, you can easily generate structured insights from from unstructured data.\n\nIn this example we are transcribing customer reviews from `audio files` and combine it with other reviews already in the `__CUSTOMER_REVIEWS` table before we explore sentiments for different categories. "
  },
  {
   "cell_type": "code",
   "execution_count": null,
   "id": "4ac8d3d9-9326-4bc4-96a6-5c1eae422738",
   "metadata": {
    "language": "sql",
    "name": "AUDIO_DATA2"
   },
   "outputs": [],
   "source": "-- Already collected customer reviews\nSELECT * FROM __CUSTOMER_REVIEWS LIMIT 5;"
  },
  {
   "cell_type": "code",
   "id": "49520b77-c13e-4695-8768-4acd65b519a7",
   "metadata": {
    "language": "sql",
    "name": "AUDIO_DATA3"
   },
   "outputs": [],
   "source": "-- Query files in Snowflake stage\nSELECT \n  RELATIVE_PATH, \n  FL_GET_CONTENT_TYPE(TO_FILE(file_url)) as MIME_TYPE,\n  FL_GET_FILE_TYPE(TO_FILE(file_url)) as FILE_MODALITY\nFROM DIRECTORY(@AUDIO) LIMIT 5;",
   "execution_count": null
  },
  {
   "cell_type": "markdown",
   "id": "e7be5299-3840-481a-856c-35dd3ac645ba",
   "metadata": {
    "collapsed": false,
    "name": "TRANSCRIBE1"
   },
   "source": "## 2.1 Transcribing Audio Files\n\nSnowflake's [AI_TRANSCRIBE](https://docs.snowflake.com/en/sql-reference/functions/ai_transcribe) function transcribes audio files from a Snowflake stage."
  },
  {
   "cell_type": "code",
   "id": "16640e90-c7d7-4bed-88c5-d7c20d4daa57",
   "metadata": {
    "language": "sql",
    "name": "TRANSCRIBE2"
   },
   "outputs": [],
   "source": "CREATE OR REPLACE TABLE _CUSTOMER_REVIEW_RAW_TRANSCRIPTS AS\nWITH TRANSCRIBED_CUSTOMER_REVIES AS (\n    -- Transcribe audo files\n    SELECT\n      RELATIVE_PATH,\n      SPLIT_PART(RELATIVE_PATH,'/',2)::TEXT AS FILENAME,\n      SPLIT_PART(FILENAME,'_',0)::DATE AS REVIEW_DATE,\n      TO_NUMBER(TO_CHAR(REVIEW_DATE, 'YYYYMMDD')) AS DATE_KEY,\n      TO_FILE(FILE_URL) AS AUDIO_FILE,\n      AI_TRANSCRIBE(AUDIO_FILE) AS TRANSCRIPTION\n    FROM \n      DIRECTORY('@AUDIO')\n    WHERE\n      -- Filter on audio files\n      FL_GET_FILE_TYPE(TO_FILE(file_url)) = 'audio'\n)\nSELECT\n  DATE_KEY,\n  RELATIVE_PATH,\n  TRANSCRIPTION['text']::TEXT AS REVIEW_TEXT,\n  TRANSCRIPTION['audio_duration']::FLOAT AS TRANSCRIPTION_DURATION,\nFROM \n  TRANSCRIBED_CUSTOMER_REVIES;\n\nSELECT * FROM _CUSTOMER_REVIEW_RAW_TRANSCRIPTS LIMIT 10;",
   "execution_count": null
  },
  {
   "cell_type": "markdown",
   "id": "e244fccb-a44e-40da-b4ff-d97da1ea1f87",
   "metadata": {
    "collapsed": false,
    "name": "SENTIMENT1"
   },
   "source": "## 3. Sentiment Analysis\n\nOnce we transcribed the audio files, we will use [AI_SENTIMENT](https://docs.snowflake.com/en/sql-reference/functions/ai_sentiment) to analyze the sentiment for different categories:\n* Overall\n* Brand\n* Product\n* Price\n* Quality\n\nThis approach is called __Aspect-Based Sentiment Analysis__ and allows fine-granular analysis compared to simple sentiment analysis.\nFor example, a customer might say:\n> _\"I like the quality of the product but the price is too high\"_  \n\nThe overall sentiment is mixed but if we analyze the different aspects (costs & quality) we understand that quality is perceived well by this customer but we need to improve on pricing.\n\n___Note:___  \nThe dataset contains __more than 74.000 customer reviews__, totaling over __5 million tokens__.  \nIn order to save time (and credits), we only run the following codes on a subset of the data to see how it works.  \nThe entire result set is provided as an existing table called `FACT_CUSTOMER_REVIEWS`."
  },
  {
   "cell_type": "code",
   "execution_count": null,
   "id": "db22303a-473d-43b5-a7a2-8729051b830f",
   "metadata": {
    "language": "sql",
    "name": "SENTIMENT2"
   },
   "outputs": [],
   "source": "CREATE OR REPLACE TEMPORARY TABLE _SENTIMENTS_CUSTOMER_REVIEWS AS (\n    -- Combine transcripts with existing reviews\n    WITH COMBINED_DATA AS (\n        SELECT DATE_KEY, REVIEW_TEXT FROM __CUSTOMER_REVIEWS\n        UNION ALL BY NAME\n        SELECT DATE_KEY, REVIEW_TEXT FROM _CUSTOMER_REVIEW_RAW_TRANSCRIPTS\n        ORDER BY DATE_KEY\n        -- Only use 10 rows for demo purposes\n        LIMIT 10\n    ),\n    -- Simple sentiment analysis for 4 different categories\n    BASIC_ANALYSIS AS (\n        SELECT\n            DATE_KEY,\n            REVIEW_TEXT,\n            LENGTH(REVIEW_TEXT) AS REVIEW_LENGTH,\n            AI_SENTIMENT(\n              REVIEW_TEXT,\n              ['brand', 'product', 'price', 'quality']\n            )['categories'] AS SENTIMENT_CATEGORIES\n        FROM COMBINED_DATA LIMIT 5\n    ),\n    -- flatten the returned JSON from AI_SENTIMENT into 1 row per category\n    -- also decode the returned values for easier aggregation\n    -- finally pivot the rows into multiple columns\n    FLATTENED_DATA AS (\n        SELECT\n            DATE_KEY,\n            REVIEW_LENGTH,\n            REVIEW_TEXT,\n            flattened_data.VALUE['name']::TEXT AS SENTIMENT_CATEGORY,\n            DECODE(\n              flattened_data.VALUE['sentiment']::TEXT,\n              'unknown', NULL,\n              'positive', 1,\n              'neutral', 0,\n              'mixed', 0,\n              'negative', -1\n            ) AS SENTIMENT_VALUE,\n        FROM BASIC_ANALYSIS,\n          LATERAL FLATTEN(SENTIMENT_CATEGORIES) flattened_data\n    )\n    SELECT\n        DATE_KEY,\n        REVIEW_LENGTH,\n        REVIEW_TEXT,\n        pivoted_data.\"'overall'\" AS SENTIMENT_OVERALL,\n        pivoted_data.\"'brand'\" AS SENTIMENT_BRAND,\n        pivoted_data.\"'price'\" AS SENTIMENT_PRICE,\n        pivoted_data.\"'product'\" AS SENTIMENT_PRODUCT,\n        pivoted_data.\"'quality'\" AS SENTIMENT_QUALITY\n    FROM\n        FLATTENED_DATA\n    PIVOT (\n        MAX(SENTIMENT_VALUE) \n        FOR SENTIMENT_CATEGORY IN (ANY ORDER BY SENTIMENT_CATEGORY)\n    ) AS pivoted_data\n);\n\nSELECT * FROM _SENTIMENTS_CUSTOMER_REVIEWS LIMIT 10;"
  },
  {
   "cell_type": "markdown",
   "id": "f871ab60-029f-426f-a724-673dc8306348",
   "metadata": {
    "collapsed": false,
    "name": "CLASSIFY1"
   },
   "source": "## 4. Matching Reviews to Product Hierarchy via LLMs\n\nAs a next step, we want to match the reviews to our product hierarchy to analyze sentiments for specific product categories or even subcategories.  \nAn easy way of doing this is to use [AI_CLASSIFY](https://docs.snowflake.com/en/sql-reference/functions/ai_classify) which receives the REVIEW_TEXT and all potential Product Categories.\n\nThis will allow business users to ask questions like:\n> ___\"How did customer's sentiment regarding our product quality for coffee products improve in 2025 compared to 2024?\"___  "
  },
  {
   "cell_type": "code",
   "execution_count": null,
   "id": "138792bd-c83b-4b64-847f-10193282559a",
   "metadata": {
    "language": "sql",
    "name": "CLASSIFY2"
   },
   "outputs": [],
   "source": "CREATE OR REPLACE TEMPORARY TABLE _SENTIMENTS_PRODUCTS_CUSTOMER_REVIEWS AS \n-- Join the first hierarchy level to each review\nWITH REVIEWS_X_PRODUCT_SUBCATEGORIES AS (\n    SELECT\n        *\n    FROM \n        __SENTIMENTS_CUSTOMER_REVIEWS\n    CROSS JOIN\n    (\n      SELECT \n        ARRAYAGG(DISTINCT CATEGORY_HIER_1_NAME) CATEGORIES\n      FROM \n        DIM_PRODUCT_HIERARCHY\n    )\n    -- Only use 10 rows for demo purposes\n    LIMIT 10\n),\n-- use AI_CLASSIFY to extract hierarchy level 1\nPRODUCT_CATEGORIES AS (\n    SELECT \n        * EXCLUDE CATEGORIES,\n        AI_CLASSIFY(\n            REVIEW_TEXT, \n            CATEGORIES,\n            {'output_mode': 'single'}\n        )['labels'][0]::TEXT AS REVIEW_PRODUCT_CATEGORY,\n    FROM \n        REVIEWS_X_PRODUCT_SUBCATEGORIES\n        CROSS JOIN\n        (\n          SELECT\n            CATEGORY_HIER_1_NAME,\n            ARRAYAGG(DISTINCT CATEGORY_HIER_2_NAME) SUBCATEGORIES\n          FROM \n            DIM_PRODUCT_HIERARCHY\n          GROUP BY\n            CATEGORY_HIER_1_NAME\n        )\n        WHERE REVIEW_PRODUCT_CATEGORY = CATEGORY_HIER_1_NAME\n),\n-- Join the second hierarchy level to each review and extract the hierarchy level 2 using AI_CLASSIFY\nPRODUCT_SUBCATEGORIES AS (\n    SELECT \n        * EXCLUDE CATEGORY_HIER_1_NAME,\n        AI_CLASSIFY(\n            REVIEW_TEXT, \n            SUBCATEGORIES,\n            {\n              'output_mode': 'single',\n              'examples':[\n                {\n                  'input': 'I love the Champagne Chocolate Truffles.',\n                  'labels': ['Premium Chocolate'],\n                  'explanation': 'The review mentions a chocolate that contains champagne as a premium ingredient'\n                },\n                {\n                  'input': 'The Milk Chocolate Classic exceeded all my expectations',\n                  'labels': ['Chocolate bars'],\n                  'explanation': 'The review does not mention any premium ingredient for the chocolate.'\n                }\n              ]\n            }\n        )['labels'][0]::TEXT AS REVIEW_PRODUCT_SUBCATEGORY  \n    FROM \n        PRODUCT_CATEGORIES\n)\nSELECT \n  DATE_KEY,\n  REVIEW_LENGTH,\n  SENTIMENT_OVERALL,\n  SENTIMENT_BRAND,\n  SENTIMENT_PRICE,\n  SENTIMENT_PRODUCT,\n  SENTIMENT_QUALITY,\n  CATEGORY_HIER_1_ID,\n  CATEGORY_HIER_2_ID\nFROM __SENTIMENTS_PRODUCTS_CUSTOMER_REVIEWS  REVIEWS\nJOIN DIM_PRODUCT_HIERARCHY PROD_HIER\n  ON REVIEWS.REVIEW_PRODUCT_CATEGORY = PROD_HIER.CATEGORY_HIER_1_NAME AND\n     REVIEWS.REVIEW_PRODUCT_SUBCATEGORY = PROD_HIER.CATEGORY_HIER_2_NAME;\n\nSELECT * FROM _SENTIMENTS_PRODUCTS_CUSTOMER_REVIEWS LIMIT 10;"
  },
  {
   "cell_type": "code",
   "id": "5d0d93e9-6824-4fe6-80a4-803dc807ae3b",
   "metadata": {
    "language": "sql",
    "name": "CLASSIFY3"
   },
   "outputs": [],
   "source": "-- The entire result set from the above SQL (using all 74K reviews)\nSELECT * FROM FACT_CUSTOMER_REVIEWS LIMIT 10;",
   "execution_count": null
  }
 ]
}