{
 "cells": [
  {
   "cell_type": "code",
   "execution_count": null,
   "id": "c2ce5d2e-5494-4bd6-830b-29a85792de57",
   "metadata": {
    "language": "python",
    "name": "PACKAGE_INSTALLS"
   },
   "outputs": [],
   "source": [
    "!pip install --quiet --root-user-action=ignore faker swifter coqui-tts pydub"
   ]
  },
  {
   "cell_type": "markdown",
   "id": "f7084097-d978-4655-970d-72def5351d4c",
   "metadata": {
    "collapsed": false,
    "name": "IMPORTS1"
   },
   "source": [
    "# Imports"
   ]
  },
  {
   "cell_type": "code",
   "execution_count": null,
   "id": "3775908f-ca36-4846-8f38-5adca39217f2",
   "metadata": {
    "language": "python",
    "name": "IMPORTS2"
   },
   "outputs": [],
   "source": [
    "# Import python packages\n",
    "import warnings\n",
    "import json\n",
    "warnings.filterwarnings(\"ignore\")\n",
    "from snowflake.snowpark.context import get_active_session\n",
    "from data_generation.data_generator import generate_biotech_dataset\n",
    "\n",
    "session = get_active_session()"
   ]
  },
  {
   "cell_type": "markdown",
   "id": "ba1fec4b-2f02-4b8e-bdcd-a5288bbfbddb",
   "metadata": {
    "collapsed": false,
    "name": "DATA_GENERATION1"
   },
   "source": [
    "# Data Generation\n",
    "\n",
    "The function `generate_biotech_dataset` generates all data required for this demo."
   ]
  },
  {
   "cell_type": "code",
   "execution_count": null,
   "id": "56e6038f-6eaf-4c84-ab92-e762e21774e8",
   "metadata": {
    "language": "python",
    "name": "DATA_GENERATION2"
   },
   "outputs": [],
   "source": [
    "# Structured Data\n",
    "datasets = data_generator.generate_biotech_dataset()"
   ]
  },
  {
   "cell_type": "code",
   "execution_count": null,
   "id": "54f81994",
   "metadata": {},
   "outputs": [],
   "source": [
    "# Load all datasets into Snowflake tables\n",
    "for table_name, df in datasets.items():\n",
    "    # Convert table name to uppercase\n",
    "    table_name_upper = table_name.upper()\n",
    "    \n",
    "    # Convert column names to uppercase\n",
    "    df_upper = df.copy()\n",
    "    df_upper.columns = [col.upper() for col in df_upper.columns]\n",
    "    \n",
    "    # Create Snowpark DataFrame and write to table\n",
    "    snowpark_df = session.create_dataframe(df_upper)\n",
    "    snowpark_df.write.mode(\"overwrite\").save_as_table(table_name_upper)\n",
    "    \n",
    "    print(f\"✓ Created table {table_name_upper} with {len(df_upper)} records\")\n",
    "\n",
    "# Visualize all tables\n",
    "print(\"\\n\" + \"=\"*60)\n",
    "print(\"TABLE DATA PREVIEW\")\n",
    "print(\"=\"*60)\n",
    "\n",
    "for table_name in datasets.keys():\n",
    "    table_name_upper = table_name.upper()\n",
    "    print(f\"\\n{table_name_upper}:\")\n",
    "    print(\"-\" * 40)\n",
    "    \n",
    "    # Read table from Snowflake and show data\n",
    "    df = session.table(table_name_upper)\n",
    "    df.show()\n"
   ]
  }
 ],
 "metadata": {
  "kernelspec": {
   "display_name": "Streamlit Notebook",
   "name": "streamlit"
  },
  "lastEditStatus": {
   "authorEmail": "michael.gorkow@snowflake.com",
   "authorId": "5423371114908",
   "authorName": "ADMIN",
   "lastEditTime": 1756138492675,
   "notebookId": "uda7rlda3z6vuefq3jn5",
   "sessionId": "c5442e53-cc2d-4b3f-a531-60f92b8f0106"
  }
 },
 "nbformat": 4,
 "nbformat_minor": 5
}
